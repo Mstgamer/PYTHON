{
 "cells": [
  {
   "cell_type": "code",
   "execution_count": null,
   "metadata": {},
   "outputs": [],
   "source": [
    "# printing hello\n",
    "print(\"hello\")"
   ]
  },
  {
   "cell_type": "code",
   "execution_count": null,
   "metadata": {},
   "outputs": [],
   "source": [
    "# type() it is  a function is used for find out the type of class\n",
    "\n",
    "print(type(False))\n",
    "print(type(2))\n",
    "print(type(\"hello\"))\n",
    "print(type(3.2))\n",
    "print(type(True))\n",
    "print(type(\"a\"))"
   ]
  },
  {
   "cell_type": "code",
   "execution_count": null,
   "metadata": {},
   "outputs": [],
   "source": [
    "# upper(), lower() functions is used for convert in to upper case & lower case\n",
    "\n",
    "a=\"Hello\"\n",
    "print(a)\n",
    "print(a.upper())\n",
    "print(a.lower())"
   ]
  },
  {
   "cell_type": "code",
   "execution_count": null,
   "metadata": {},
   "outputs": [],
   "source": [
    "# input() it is used for to accept inputs from the users\n",
    "\n",
    "a=int(input(\"Enter a number: \"))\n",
    "\n",
    "if a>0:\n",
    "    print(a,\"it is a +ve Number\")\n",
    "elif a==0:\n",
    "    print(\"Number is Zero\")\n",
    "else:\n",
    "    print(a,\"it is a -ve Number\")\n"
   ]
  },
  {
   "cell_type": "code",
   "execution_count": null,
   "metadata": {},
   "outputs": [],
   "source": [
    "# while loop \n",
    "\n",
    "i=1\n",
    "while i<=100:\n",
    "    print(i)\n",
    "    i=i+2"
   ]
  },
  {
   "cell_type": "code",
   "execution_count": null,
   "metadata": {},
   "outputs": [],
   "source": [
    "# for loop \n",
    "\n",
    "for i in range(1,100,2):\n",
    "    print(i)"
   ]
  },
  {
   "cell_type": "code",
   "execution_count": null,
   "metadata": {},
   "outputs": [],
   "source": [
    "# for loop\n",
    "for i in range(100,0,-1):\n",
    "    print(i)"
   ]
  },
  {
   "cell_type": "code",
   "execution_count": null,
   "metadata": {},
   "outputs": [],
   "source": [
    "# i=i\n",
    "# while i<10:\n",
    "#     if i==5:\n",
    "#         continue\n",
    "for i in range(1,5,1):\n",
    "    if i == 3:\n",
    "        continue \n",
    "    print(i)\n"
   ]
  },
  {
   "cell_type": "code",
   "execution_count": null,
   "metadata": {},
   "outputs": [],
   "source": [
    "i=0\n",
    "while i<10:\n",
    "    i=i+1\n",
    "    if i==5:\n",
    "        continue\n",
    "    print(i)\n",
    "        "
   ]
  },
  {
   "cell_type": "code",
   "execution_count": null,
   "metadata": {},
   "outputs": [],
   "source": [
    "# list in python\n",
    "\n",
    "employee=[\"Ajul\",\"Manu\",\"Manoj\",\"Hassankutty\"]\n",
    "\n",
    "\n",
    "employee.append(\"ajay\")\n",
    "\n",
    "employee.insert(2,\"hehe\")\n",
    "print(type(employee))\n",
    "print(len(employee))\n",
    "print(employee)"
   ]
  },
  {
   "cell_type": "code",
   "execution_count": null,
   "metadata": {},
   "outputs": [],
   "source": [
    "# append(),insert(),len(),pop() function\n",
    "\n",
    "employee=[\"Ajul\",\"Manu\",\"Manoj\",\"Hassankutty\"]\n",
    "\n",
    "\n",
    "employee.append(\"ajay\")\n",
    "\n",
    "employee.insert(2,\"hehe\")\n",
    "print(type(employee))\n",
    "print(len(employee))\n",
    "employee.pop()\n",
    "print(employee)"
   ]
  },
  {
   "cell_type": "code",
   "execution_count": null,
   "metadata": {},
   "outputs": [],
   "source": [
    "# append(), insert(),len() function\n",
    "\n",
    "employee=[\"Ajul\",\"Manu\",\"Manoj\",\"Hassankutty\"]\n",
    "\n",
    "\n",
    "employee.append(\"ajay\")\n",
    "\n",
    "employee.insert(2,\"hehe\")\n",
    "print(type(employee))\n",
    "print(len(employee))\n",
    "print(employee)\n",
    "employee.pop(1)\n",
    "print(employee)"
   ]
  },
  {
   "cell_type": "code",
   "execution_count": null,
   "metadata": {},
   "outputs": [],
   "source": [
    "# remove() function\n",
    "\n",
    "employee=[\"Ajul\",\"Manu\",\"Manoj\",\"Hassankutty\"]\n",
    "employee.remove(\"Ajul\")\n",
    "print(employee)"
   ]
  },
  {
   "cell_type": "code",
   "execution_count": null,
   "metadata": {},
   "outputs": [],
   "source": [
    "# max()function\n",
    "\n",
    "employee=[\"Ajul\",\"Manu\",\"zyrack\",\"Manoj\",\"Hassankutty\"]\n",
    "\n",
    "\n",
    "print(max(employee))\n",
    "print(employee)"
   ]
  },
  {
   "cell_type": "code",
   "execution_count": null,
   "metadata": {},
   "outputs": [],
   "source": [
    "# extend() function\n",
    "\n",
    "a = [2,3,5,6,7]\n",
    "b = [92,94,239,43]\n",
    "print(a)\n",
    "print(b)\n",
    "a.extend(b)\n",
    "print(a)"
   ]
  },
  {
   "cell_type": "code",
   "execution_count": null,
   "metadata": {},
   "outputs": [],
   "source": [
    "\n",
    "a = [1,2,3,4,5,6,7,8,9,10]\n",
    "b = []\n",
    "for i in a:\n",
    "    if i % 2 == 0:  \n",
    "        b.append(i)\n",
    "\n",
    "print(b)"
   ]
  },
  {
   "cell_type": "code",
   "execution_count": null,
   "metadata": {},
   "outputs": [],
   "source": [
    "a = (2,3,5,6,4)\n",
    "b = {6,23,46,64}\n",
    "print(type(b))\n",
    "print(type(a))"
   ]
  },
  {
   "cell_type": "code",
   "execution_count": null,
   "metadata": {},
   "outputs": [],
   "source": [
    "# add() function is used for insert a new value in to set\n",
    "\n",
    "a = {23,5,365,34,2}\n",
    "a.add(34)\n",
    "print(a)"
   ]
  },
  {
   "cell_type": "code",
   "execution_count": null,
   "metadata": {},
   "outputs": [],
   "source": [
    "# set union function\n",
    "\n",
    "n = {1,2,3,4,8}\n",
    "n2 = {5,6,7,8}\n",
    "s = n.union(n2)\n",
    "print(s)"
   ]
  },
  {
   "cell_type": "code",
   "execution_count": null,
   "metadata": {},
   "outputs": [],
   "source": [
    "# converting a list to set\n",
    "\n",
    "set = {1, 2, 3} \n",
    "del set\n",
    "n = [1,2,3,4]\n",
    "s = set(n)\n",
    "print(s)"
   ]
  },
  {
   "cell_type": "code",
   "execution_count": null,
   "metadata": {},
   "outputs": [],
   "source": [
    "n = {'a':1,'b':2,'c':3}\n",
    "print(type(n))"
   ]
  },
  {
   "cell_type": "code",
   "execution_count": null,
   "metadata": {},
   "outputs": [],
   "source": [
    "# key(),value() funtions in dict\n",
    "\n",
    "emplon = {'name':[\"Ajul\",'manu'], 'age':[21,61], 'salary':[\"5l\",\"3k\"]}\n",
    "print(emplon.keys())\n",
    "print(emplon.values())\n"
   ]
  },
  {
   "cell_type": "code",
   "execution_count": null,
   "metadata": {},
   "outputs": [],
   "source": [
    "# pop() funtions in dict\n",
    "\n",
    "emplon = {'name':\"Ajul\", 'age':21, 'salary':\"5L\"}\n",
    "print(emplon)\n",
    "print(emplon.pop(\"name\"))\n",
    "print(emplon)\n",
    "\n",
    "\n",
    "\n"
   ]
  },
  {
   "cell_type": "code",
   "execution_count": null,
   "metadata": {},
   "outputs": [],
   "source": [
    "# popitem() function\n",
    "\n",
    "emplon = {'name':\"Ajul\", 'age':21, 'salary':\"5L\"}\n",
    "print(emplon)\n",
    "print(emplon.popitem())\n",
    "print(emplon)\n"
   ]
  },
  {
   "cell_type": "code",
   "execution_count": null,
   "metadata": {},
   "outputs": [],
   "source": [
    "# updat() it is a function that is used for to update the datas on the dict\n",
    "\n",
    "emplon = {'name': 'Ajul', 'age': 21, 'salary': \"5L\"}\n",
    "\n",
    "print(emplon)\n",
    "\n",
    "emplon.update(age=22, salary=\"6L\", department='HR')\n",
    "\n",
    "print(emplon)\n"
   ]
  },
  {
   "cell_type": "code",
   "execution_count": null,
   "metadata": {},
   "outputs": [],
   "source": [
    "# function declaration and calling\n",
    "\n",
    "def sayhai():\n",
    "    print(\"hay\")\n",
    "sayhai() #function calling\n",
    "\n",
    "#function add()\n",
    "    \n",
    "def add():\n",
    "    a = 1\n",
    "    b = 2\n",
    "    print(a+b)\n",
    "add()"
   ]
  },
  {
   "cell_type": "code",
   "execution_count": null,
   "metadata": {},
   "outputs": [],
   "source": [
    "# function using  formal & actual parameters\n",
    "\n",
    "def add1(a,b):\n",
    "    c = a+b\n",
    "    print(c)\n",
    "add1(1,2)"
   ]
  },
  {
   "cell_type": "code",
   "execution_count": 114,
   "metadata": {},
   "outputs": [
    {
     "name": "stdout",
     "output_type": "stream",
     "text": [
      "odd\n"
     ]
    }
   ],
   "source": [
    "# function is used for  to check the number even or odd\n",
    "\n",
    "# def check_odd_even(num):\n",
    "#     if num % 2 == 0:\n",
    "#         return \"Even\"\n",
    "#     else:\n",
    "#         return \"Odd\"\n",
    "\n",
    "\n",
    "# num = 7\n",
    "# result = check_odd_even(num)\n",
    "# print(f\"The number {num} is {result}.\")\n",
    "# ------------------------------------------\n",
    "# -- another method\n",
    "\n",
    "def num(a):\n",
    "    if a % 2 == 0:\n",
    "        print(\"even\")\n",
    "    else:\n",
    "        print(\"odd\")\n",
    "        \n",
    "num(7)\n",
    "\n"
   ]
  },
  {
   "cell_type": "code",
   "execution_count": 115,
   "metadata": {},
   "outputs": [
    {
     "name": "stdout",
     "output_type": "stream",
     "text": [
      "sam\n",
      "anu\n"
     ]
    }
   ],
   "source": [
    "#class concept in python (oops)\n",
    "\n",
    "class name:\n",
    "    first_name = 'sam'\n",
    "    second_name = 'anu'\n",
    "    mark = 13\n",
    "n1 = name()\n",
    "print(n1.first_name)\n",
    "print(n1.second_name)"
   ]
  }
 ],
 "metadata": {
  "kernelspec": {
   "display_name": "Python 3",
   "language": "python",
   "name": "python3"
  },
  "language_info": {
   "codemirror_mode": {
    "name": "ipython",
    "version": 3
   },
   "file_extension": ".py",
   "mimetype": "text/x-python",
   "name": "python",
   "nbconvert_exporter": "python",
   "pygments_lexer": "ipython3",
   "version": "3.11.9"
  }
 },
 "nbformat": 4,
 "nbformat_minor": 2
}

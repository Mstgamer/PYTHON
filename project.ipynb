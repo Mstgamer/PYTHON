{
 "cells": [
  {
   "cell_type": "code",
   "execution_count": 85,
   "metadata": {},
   "outputs": [
    {
     "name": "stdout",
     "output_type": "stream",
     "text": [
      "hello\n"
     ]
    }
   ],
   "source": [
    "# printing hello\n",
    "print(\"hello\")"
   ]
  },
  {
   "cell_type": "code",
   "execution_count": 38,
   "metadata": {},
   "outputs": [
    {
     "name": "stdout",
     "output_type": "stream",
     "text": [
      "<class 'bool'>\n",
      "<class 'int'>\n",
      "<class 'str'>\n",
      "<class 'float'>\n",
      "<class 'bool'>\n",
      "<class 'str'>\n"
     ]
    }
   ],
   "source": [
    "# type() it is  a function is used for find out the type of class\n",
    "\n",
    "print(type(False))\n",
    "print(type(2))\n",
    "print(type(\"hello\"))\n",
    "print(type(3.2))\n",
    "print(type(True))\n",
    "print(type(\"a\"))"
   ]
  },
  {
   "cell_type": "code",
   "execution_count": 39,
   "metadata": {},
   "outputs": [
    {
     "name": "stdout",
     "output_type": "stream",
     "text": [
      "Hello\n",
      "HELLO\n",
      "hello\n"
     ]
    }
   ],
   "source": [
    "# upper(), lower() functions is used for convert in to upper case & lower case\n",
    "\n",
    "a=\"Hello\"\n",
    "print(a)\n",
    "print(a.upper())\n",
    "print(a.lower())"
   ]
  },
  {
   "cell_type": "code",
   "execution_count": null,
   "metadata": {},
   "outputs": [
    {
     "name": "stdout",
     "output_type": "stream",
     "text": [
      "3 it is a +ve Number\n"
     ]
    }
   ],
   "source": [
    "# input() it is used for to accept inputs from the users\n",
    "\n",
    "a=int(input(\"Enter a number: \"))\n",
    "\n",
    "if a>0:\n",
    "    print(a,\"it is a +ve Number\")\n",
    "elif a==0:\n",
    "    print(\"Number is Zero\")\n",
    "else:\n",
    "    print(a,\"it is a -ve Number\")\n"
   ]
  },
  {
   "cell_type": "code",
   "execution_count": 78,
   "metadata": {},
   "outputs": [
    {
     "name": "stdout",
     "output_type": "stream",
     "text": [
      "1\n",
      "3\n",
      "5\n",
      "7\n",
      "9\n",
      "11\n",
      "13\n",
      "15\n",
      "17\n",
      "19\n",
      "21\n",
      "23\n",
      "25\n",
      "27\n",
      "29\n",
      "31\n",
      "33\n",
      "35\n",
      "37\n",
      "39\n",
      "41\n",
      "43\n",
      "45\n",
      "47\n",
      "49\n",
      "51\n",
      "53\n",
      "55\n",
      "57\n",
      "59\n",
      "61\n",
      "63\n",
      "65\n",
      "67\n",
      "69\n",
      "71\n",
      "73\n",
      "75\n",
      "77\n",
      "79\n",
      "81\n",
      "83\n",
      "85\n",
      "87\n",
      "89\n",
      "91\n",
      "93\n",
      "95\n",
      "97\n",
      "99\n"
     ]
    }
   ],
   "source": [
    "# while loop \n",
    "\n",
    "i=1\n",
    "while i<=100:\n",
    "    print(i)\n",
    "    i=i+2"
   ]
  },
  {
   "cell_type": "code",
   "execution_count": 80,
   "metadata": {},
   "outputs": [
    {
     "name": "stdout",
     "output_type": "stream",
     "text": [
      "1\n",
      "3\n",
      "5\n",
      "7\n",
      "9\n",
      "11\n",
      "13\n",
      "15\n",
      "17\n",
      "19\n",
      "21\n",
      "23\n",
      "25\n",
      "27\n",
      "29\n",
      "31\n",
      "33\n",
      "35\n",
      "37\n",
      "39\n",
      "41\n",
      "43\n",
      "45\n",
      "47\n",
      "49\n",
      "51\n",
      "53\n",
      "55\n",
      "57\n",
      "59\n",
      "61\n",
      "63\n",
      "65\n",
      "67\n",
      "69\n",
      "71\n",
      "73\n",
      "75\n",
      "77\n",
      "79\n",
      "81\n",
      "83\n",
      "85\n",
      "87\n",
      "89\n",
      "91\n",
      "93\n",
      "95\n",
      "97\n",
      "99\n"
     ]
    }
   ],
   "source": [
    "# for loop \n",
    "\n",
    "for i in range(1,100,2):\n",
    "    print(i)"
   ]
  },
  {
   "cell_type": "code",
   "execution_count": 86,
   "metadata": {},
   "outputs": [
    {
     "name": "stdout",
     "output_type": "stream",
     "text": [
      "100\n",
      "99\n",
      "98\n",
      "97\n",
      "96\n",
      "95\n",
      "94\n",
      "93\n",
      "92\n",
      "91\n",
      "90\n",
      "89\n",
      "88\n",
      "87\n",
      "86\n",
      "85\n",
      "84\n",
      "83\n",
      "82\n",
      "81\n",
      "80\n",
      "79\n",
      "78\n",
      "77\n",
      "76\n",
      "75\n",
      "74\n",
      "73\n",
      "72\n",
      "71\n",
      "70\n",
      "69\n",
      "68\n",
      "67\n",
      "66\n",
      "65\n",
      "64\n",
      "63\n",
      "62\n",
      "61\n",
      "60\n",
      "59\n",
      "58\n",
      "57\n",
      "56\n",
      "55\n",
      "54\n",
      "53\n",
      "52\n",
      "51\n",
      "50\n",
      "49\n",
      "48\n",
      "47\n",
      "46\n",
      "45\n",
      "44\n",
      "43\n",
      "42\n",
      "41\n",
      "40\n",
      "39\n",
      "38\n",
      "37\n",
      "36\n",
      "35\n",
      "34\n",
      "33\n",
      "32\n",
      "31\n",
      "30\n",
      "29\n",
      "28\n",
      "27\n",
      "26\n",
      "25\n",
      "24\n",
      "23\n",
      "22\n",
      "21\n",
      "20\n",
      "19\n",
      "18\n",
      "17\n",
      "16\n",
      "15\n",
      "14\n",
      "13\n",
      "12\n",
      "11\n",
      "10\n",
      "9\n",
      "8\n",
      "7\n",
      "6\n",
      "5\n",
      "4\n",
      "3\n",
      "2\n",
      "1\n"
     ]
    }
   ],
   "source": [
    "# for loop\n",
    "for i in range(100,0,-1):\n",
    "    print(i)"
   ]
  },
  {
   "cell_type": "code",
   "execution_count": 87,
   "metadata": {},
   "outputs": [
    {
     "name": "stdout",
     "output_type": "stream",
     "text": [
      "1\n",
      "2\n",
      "4\n"
     ]
    }
   ],
   "source": [
    "# i=i\n",
    "# while i<10:\n",
    "#     if i==5:\n",
    "#         continue\n",
    "for i in range(1,5,1):\n",
    "    if i == 3:\n",
    "        continue \n",
    "    print(i)\n"
   ]
  },
  {
   "cell_type": "code",
   "execution_count": 89,
   "metadata": {},
   "outputs": [
    {
     "name": "stdout",
     "output_type": "stream",
     "text": [
      "1\n",
      "2\n",
      "3\n",
      "4\n",
      "6\n",
      "7\n",
      "8\n",
      "9\n",
      "10\n"
     ]
    }
   ],
   "source": [
    "i=0\n",
    "while i<10:\n",
    "    i=i+1\n",
    "    if i==5:\n",
    "        continue\n",
    "    print(i)\n",
    "        "
   ]
  },
  {
   "cell_type": "code",
   "execution_count": 100,
   "metadata": {},
   "outputs": [
    {
     "name": "stdout",
     "output_type": "stream",
     "text": [
      "<class 'list'>\n",
      "6\n",
      "['Ajul', 'Manu', 'hehe', 'Manoj', 'Hassankutty', 'ajay']\n"
     ]
    }
   ],
   "source": [
    "# list in python\n",
    "\n",
    "employee=[\"Ajul\",\"Manu\",\"Manoj\",\"Hassankutty\"]\n",
    "\n",
    "\n",
    "employee.append(\"ajay\")\n",
    "\n",
    "employee.insert(2,\"hehe\")\n",
    "print(type(employee))\n",
    "print(len(employee))\n",
    "print(employee)"
   ]
  },
  {
   "cell_type": "code",
   "execution_count": 102,
   "metadata": {},
   "outputs": [
    {
     "name": "stdout",
     "output_type": "stream",
     "text": [
      "<class 'list'>\n",
      "6\n",
      "['Ajul', 'Manu', 'hehe', 'Manoj', 'Hassankutty']\n"
     ]
    }
   ],
   "source": [
    "# append(),insert(),len(),pop() function\n",
    "\n",
    "employee=[\"Ajul\",\"Manu\",\"Manoj\",\"Hassankutty\"]\n",
    "\n",
    "\n",
    "employee.append(\"ajay\")\n",
    "\n",
    "employee.insert(2,\"hehe\")\n",
    "print(type(employee))\n",
    "print(len(employee))\n",
    "employee.pop()\n",
    "print(employee)"
   ]
  },
  {
   "cell_type": "code",
   "execution_count": 104,
   "metadata": {},
   "outputs": [
    {
     "name": "stdout",
     "output_type": "stream",
     "text": [
      "<class 'list'>\n",
      "6\n",
      "['Ajul', 'Manu', 'hehe', 'Manoj', 'Hassankutty', 'ajay']\n",
      "['Ajul', 'hehe', 'Manoj', 'Hassankutty', 'ajay']\n"
     ]
    }
   ],
   "source": [
    "# append(), insert(),len() function\n",
    "\n",
    "employee=[\"Ajul\",\"Manu\",\"Manoj\",\"Hassankutty\"]\n",
    "\n",
    "\n",
    "employee.append(\"ajay\")\n",
    "\n",
    "employee.insert(2,\"hehe\")\n",
    "print(type(employee))\n",
    "print(len(employee))\n",
    "print(employee)\n",
    "employee.pop(1)\n",
    "print(employee)"
   ]
  },
  {
   "cell_type": "code",
   "execution_count": 1,
   "metadata": {},
   "outputs": [
    {
     "name": "stdout",
     "output_type": "stream",
     "text": [
      "['Manu', 'Manoj', 'Hassankutty']\n"
     ]
    }
   ],
   "source": [
    "# remove() function\n",
    "\n",
    "employee=[\"Ajul\",\"Manu\",\"Manoj\",\"Hassankutty\"]\n",
    "employee.remove(\"Ajul\")\n",
    "print(employee)"
   ]
  },
  {
   "cell_type": "code",
   "execution_count": 11,
   "metadata": {},
   "outputs": [
    {
     "name": "stdout",
     "output_type": "stream",
     "text": [
      "zyrack\n",
      "['Ajul', 'Manu', 'zyrack', 'Manoj', 'Hassankutty']\n"
     ]
    }
   ],
   "source": [
    "# max()function\n",
    "\n",
    "employee=[\"Ajul\",\"Manu\",\"zyrack\",\"Manoj\",\"Hassankutty\"]\n",
    "\n",
    "\n",
    "print(max(employee))\n",
    "print(employee)"
   ]
  },
  {
   "cell_type": "code",
   "execution_count": 16,
   "metadata": {},
   "outputs": [
    {
     "name": "stdout",
     "output_type": "stream",
     "text": [
      "[2, 3, 5, 6, 7]\n",
      "[92, 94, 239, 43]\n",
      "[2, 3, 5, 6, 7, 92, 94, 239, 43]\n"
     ]
    }
   ],
   "source": [
    "# extend() function\n",
    "\n",
    "a = [2,3,5,6,7]\n",
    "b = [92,94,239,43]\n",
    "print(a)\n",
    "print(b)\n",
    "a.extend(b)\n",
    "print(a)"
   ]
  },
  {
   "cell_type": "code",
   "execution_count": 19,
   "metadata": {},
   "outputs": [
    {
     "name": "stdout",
     "output_type": "stream",
     "text": [
      "[2, 4, 6, 8, 10]\n"
     ]
    }
   ],
   "source": [
    "\n",
    "a = [1,2,3,4,5,6,7,8,9,10]\n",
    "b = []\n",
    "for i in a:\n",
    "    if i % 2 == 0:  \n",
    "        b.append(i)\n",
    "\n",
    "print(b)"
   ]
  },
  {
   "cell_type": "code",
   "execution_count": 22,
   "metadata": {},
   "outputs": [
    {
     "name": "stdout",
     "output_type": "stream",
     "text": [
      "<class 'set'>\n",
      "<class 'tuple'>\n"
     ]
    }
   ],
   "source": [
    "a = (2,3,5,6,4)\n",
    "b = {6,23,46,64}\n",
    "print(type(b))\n",
    "print(type(a))"
   ]
  },
  {
   "cell_type": "code",
   "execution_count": 34,
   "metadata": {},
   "outputs": [
    {
     "name": "stdout",
     "output_type": "stream",
     "text": [
      "{2, 34, 5, 23, 365}\n"
     ]
    }
   ],
   "source": [
    "# add() function is used for insert a new value in to set\n",
    "\n",
    "a = {23,5,365,34,2}\n",
    "a.add(34)\n",
    "print(a)"
   ]
  },
  {
   "cell_type": "code",
   "execution_count": 42,
   "metadata": {},
   "outputs": [
    {
     "name": "stdout",
     "output_type": "stream",
     "text": [
      "{1, 2, 3, 4, 5, 6, 7, 8}\n"
     ]
    }
   ],
   "source": [
    "# set union function\n",
    "\n",
    "n = {1,2,3,4,8}\n",
    "n2 = {5,6,7,8}\n",
    "s = n.union(n2)\n",
    "print(s)"
   ]
  },
  {
   "cell_type": "code",
   "execution_count": 51,
   "metadata": {},
   "outputs": [
    {
     "name": "stdout",
     "output_type": "stream",
     "text": [
      "{1, 2, 3, 4}\n"
     ]
    }
   ],
   "source": [
    "# converting a list to set\n",
    "\n",
    "set = {1, 2, 3} \n",
    "del set\n",
    "n = [1,2,3,4]\n",
    "s = set(n)\n",
    "print(s)"
   ]
  },
  {
   "cell_type": "code",
   "execution_count": 56,
   "metadata": {},
   "outputs": [
    {
     "name": "stdout",
     "output_type": "stream",
     "text": [
      "<class 'dict'>\n"
     ]
    }
   ],
   "source": [
    "n = {'a':1,'b':2,'c':3}\n",
    "print(type(n))"
   ]
  },
  {
   "cell_type": "code",
   "execution_count": 74,
   "metadata": {},
   "outputs": [
    {
     "name": "stdout",
     "output_type": "stream",
     "text": [
      "dict_keys(['name', 'age', 'salary'])\n",
      "dict_values([['Ajul', 'manu'], [21, 61], ['5l', '3k']])\n"
     ]
    }
   ],
   "source": [
    "# key(),value() funtions in dict\n",
    "\n",
    "emplon = {'name':[\"Ajul\",'manu'], 'age':[21,61], 'salary':[\"5l\",\"3k\"]}\n",
    "print(emplon.keys())\n",
    "print(emplon.values())\n"
   ]
  },
  {
   "cell_type": "code",
   "execution_count": 88,
   "metadata": {},
   "outputs": [
    {
     "name": "stdout",
     "output_type": "stream",
     "text": [
      "{'name': 'Ajul', 'age': 21, 'salary': '5L'}\n",
      "Ajul\n",
      "{'age': 21, 'salary': '5L'}\n"
     ]
    }
   ],
   "source": [
    "# pop() funtions in dict\n",
    "\n",
    "emplon = {'name':\"Ajul\", 'age':21, 'salary':\"5L\"}\n",
    "print(emplon)\n",
    "print(emplon.pop(\"name\"))\n",
    "print(emplon)\n",
    "\n",
    "\n",
    "\n"
   ]
  },
  {
   "cell_type": "code",
   "execution_count": 89,
   "metadata": {},
   "outputs": [
    {
     "name": "stdout",
     "output_type": "stream",
     "text": [
      "{'name': 'Ajul', 'age': 21, 'salary': '5L'}\n",
      "('salary', '5L')\n",
      "{'name': 'Ajul', 'age': 21}\n"
     ]
    }
   ],
   "source": [
    "# popitem() function\n",
    "\n",
    "emplon = {'name':\"Ajul\", 'age':21, 'salary':\"5L\"}\n",
    "print(emplon)\n",
    "print(emplon.popitem())\n",
    "print(emplon)\n"
   ]
  },
  {
   "cell_type": "code",
   "execution_count": 92,
   "metadata": {},
   "outputs": [
    {
     "name": "stdout",
     "output_type": "stream",
     "text": [
      "{'name': 'Ajul', 'age': 21, 'salary': '5L'}\n",
      "{'name': 'Ajul', 'age': 22, 'salary': '6L', 'department': 'HR'}\n"
     ]
    }
   ],
   "source": [
    "# updat() it is a function that is used for to update the datas on the dict\n",
    "\n",
    "emplon = {'name': 'Ajul', 'age': 21, 'salary': \"5L\"}\n",
    "\n",
    "print(emplon)\n",
    "\n",
    "emplon.update(age=22, salary=\"6L\", department='HR')\n",
    "\n",
    "print(emplon)\n"
   ]
  }
 ],
 "metadata": {
  "kernelspec": {
   "display_name": "Python 3",
   "language": "python",
   "name": "python3"
  },
  "language_info": {
   "codemirror_mode": {
    "name": "ipython",
    "version": 3
   },
   "file_extension": ".py",
   "mimetype": "text/x-python",
   "name": "python",
   "nbconvert_exporter": "python",
   "pygments_lexer": "ipython3",
   "version": "3.11.9"
  }
 },
 "nbformat": 4,
 "nbformat_minor": 2
}
